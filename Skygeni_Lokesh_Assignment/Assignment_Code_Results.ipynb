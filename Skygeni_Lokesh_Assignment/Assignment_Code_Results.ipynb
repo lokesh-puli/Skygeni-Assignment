{
 "cells": [
  {
   "cell_type": "markdown",
   "id": "2b9574cb",
   "metadata": {},
   "source": [
    "# Skygeni Assignment for Data Engineering Role"
   ]
  },
  {
   "cell_type": "markdown",
   "id": "a6dc4f7c",
   "metadata": {},
   "source": [
    "## Student Details:\n",
    "<b>1. Name:</b> Puli Lokesh <br>\n",
    "<b>2. University:</b> Lovely Professional University"
   ]
  },
  {
   "cell_type": "markdown",
   "id": "d64181fd",
   "metadata": {},
   "source": [
    "## Importing Libraries"
   ]
  },
  {
   "cell_type": "code",
   "execution_count": 1,
   "id": "29eb9230",
   "metadata": {},
   "outputs": [],
   "source": [
    "# Importing all the necessary Libries for the analysis\n",
    "\n",
    "# Library for data manipulation andd analysis and to deal with Dataframes\n",
    "import pandas as pd\n",
    "\n",
    "# Library for numerical operations including mathematical functions and support for arrays \n",
    "import numpy as np\n",
    "\n",
    "# Libraries For Visualization\n",
    "import seaborn as sns\n",
    "import matplotlib.pyplot as plt"
   ]
  },
  {
   "cell_type": "markdown",
   "id": "8cb87f92",
   "metadata": {},
   "source": [
    "## Importing Datasets"
   ]
  },
  {
   "cell_type": "code",
   "execution_count": 2,
   "id": "4807c54c",
   "metadata": {},
   "outputs": [],
   "source": [
    "#Loading all the four datasets\n",
    "\n",
    "# Load Finanical Information Dataset\n",
    "financial_df=pd.read_csv(\"finanical_information.csv\")\n",
    "\n",
    "# Load Industry Client Details Dataset\n",
    "industry_df=pd.read_csv(\"industry_client_details.csv\")\n",
    "\n",
    "# Load Payment Information Dataset \n",
    "payment_df=pd.read_csv(\"payment_information.csv\")\n",
    "\n",
    "# Load Subscription Information Dataset\n",
    "subscription_df=pd.read_csv(\"subscription_information.csv\")"
   ]
  },
  {
   "cell_type": "markdown",
   "id": "cc653809",
   "metadata": {},
   "source": [
    "## Data Inspection and Exploring"
   ]
  },
  {
   "cell_type": "code",
   "execution_count": 3,
   "id": "cf1fadc3",
   "metadata": {},
   "outputs": [
    {
     "name": "stdout",
     "output_type": "stream",
     "text": [
      "Finanical Information Dataset:\n"
     ]
    },
    {
     "data": {
      "text/html": [
       "<div>\n",
       "<style scoped>\n",
       "    .dataframe tbody tr th:only-of-type {\n",
       "        vertical-align: middle;\n",
       "    }\n",
       "\n",
       "    .dataframe tbody tr th {\n",
       "        vertical-align: top;\n",
       "    }\n",
       "\n",
       "    .dataframe thead th {\n",
       "        text-align: right;\n",
       "    }\n",
       "</style>\n",
       "<table border=\"1\" class=\"dataframe\">\n",
       "  <thead>\n",
       "    <tr style=\"text-align: right;\">\n",
       "      <th></th>\n",
       "      <th>Unnamed: 0</th>\n",
       "      <th>start_date</th>\n",
       "      <th>end_date</th>\n",
       "      <th>inflation_rate</th>\n",
       "      <th>gdp_growth_rate</th>\n",
       "    </tr>\n",
       "  </thead>\n",
       "  <tbody>\n",
       "    <tr>\n",
       "      <th>0</th>\n",
       "      <td>0</td>\n",
       "      <td>2018-01-01</td>\n",
       "      <td>2018-03-31</td>\n",
       "      <td>5.77</td>\n",
       "      <td>3.51</td>\n",
       "    </tr>\n",
       "    <tr>\n",
       "      <th>1</th>\n",
       "      <td>1</td>\n",
       "      <td>2018-04-01</td>\n",
       "      <td>2018-06-30</td>\n",
       "      <td>1.17</td>\n",
       "      <td>2.15</td>\n",
       "    </tr>\n",
       "    <tr>\n",
       "      <th>2</th>\n",
       "      <td>2</td>\n",
       "      <td>2018-07-01</td>\n",
       "      <td>2018-09-30</td>\n",
       "      <td>1.56</td>\n",
       "      <td>1.82</td>\n",
       "    </tr>\n",
       "    <tr>\n",
       "      <th>3</th>\n",
       "      <td>3</td>\n",
       "      <td>2018-10-01</td>\n",
       "      <td>2018-12-31</td>\n",
       "      <td>2.78</td>\n",
       "      <td>2.43</td>\n",
       "    </tr>\n",
       "    <tr>\n",
       "      <th>4</th>\n",
       "      <td>4</td>\n",
       "      <td>2019-01-01</td>\n",
       "      <td>2019-03-31</td>\n",
       "      <td>6.91</td>\n",
       "      <td>3.44</td>\n",
       "    </tr>\n",
       "  </tbody>\n",
       "</table>\n",
       "</div>"
      ],
      "text/plain": [
       "   Unnamed: 0  start_date    end_date  inflation_rate  gdp_growth_rate\n",
       "0           0  2018-01-01  2018-03-31            5.77             3.51\n",
       "1           1  2018-04-01  2018-06-30            1.17             2.15\n",
       "2           2  2018-07-01  2018-09-30            1.56             1.82\n",
       "3           3  2018-10-01  2018-12-31            2.78             2.43\n",
       "4           4  2019-01-01  2019-03-31            6.91             3.44"
      ]
     },
     "execution_count": 3,
     "metadata": {},
     "output_type": "execute_result"
    }
   ],
   "source": [
    "# Overview of starting few rows of Finanical Information Dataset\n",
    "print(\"Finanical Information Dataset:\")\n",
    "financial_df.head()\n"
   ]
  },
  {
   "cell_type": "code",
   "execution_count": 4,
   "id": "3cde8dc9",
   "metadata": {},
   "outputs": [
    {
     "name": "stdout",
     "output_type": "stream",
     "text": [
      "Industry Client Details Dataset:\n"
     ]
    },
    {
     "data": {
      "text/html": [
       "<div>\n",
       "<style scoped>\n",
       "    .dataframe tbody tr th:only-of-type {\n",
       "        vertical-align: middle;\n",
       "    }\n",
       "\n",
       "    .dataframe tbody tr th {\n",
       "        vertical-align: top;\n",
       "    }\n",
       "\n",
       "    .dataframe thead th {\n",
       "        text-align: right;\n",
       "    }\n",
       "</style>\n",
       "<table border=\"1\" class=\"dataframe\">\n",
       "  <thead>\n",
       "    <tr style=\"text-align: right;\">\n",
       "      <th></th>\n",
       "      <th>client_id</th>\n",
       "      <th>company_size</th>\n",
       "      <th>industry</th>\n",
       "      <th>location</th>\n",
       "    </tr>\n",
       "  </thead>\n",
       "  <tbody>\n",
       "    <tr>\n",
       "      <th>0</th>\n",
       "      <td>4280387012</td>\n",
       "      <td>Large</td>\n",
       "      <td>Finance Lending</td>\n",
       "      <td>Mumbai</td>\n",
       "    </tr>\n",
       "    <tr>\n",
       "      <th>1</th>\n",
       "      <td>2095513148</td>\n",
       "      <td>Small</td>\n",
       "      <td>Finance Lending</td>\n",
       "      <td>Chennai</td>\n",
       "    </tr>\n",
       "    <tr>\n",
       "      <th>2</th>\n",
       "      <td>7225516707</td>\n",
       "      <td>Medium</td>\n",
       "      <td>Finance Lending</td>\n",
       "      <td>New Delhi</td>\n",
       "    </tr>\n",
       "    <tr>\n",
       "      <th>3</th>\n",
       "      <td>8093537819</td>\n",
       "      <td>Large</td>\n",
       "      <td>Block Chain</td>\n",
       "      <td>Mumbai</td>\n",
       "    </tr>\n",
       "    <tr>\n",
       "      <th>4</th>\n",
       "      <td>4387541014</td>\n",
       "      <td>Medium</td>\n",
       "      <td>Hyper Local</td>\n",
       "      <td>Banglore</td>\n",
       "    </tr>\n",
       "  </tbody>\n",
       "</table>\n",
       "</div>"
      ],
      "text/plain": [
       "    client_id company_size         industry   location\n",
       "0  4280387012        Large  Finance Lending     Mumbai\n",
       "1  2095513148        Small  Finance Lending    Chennai\n",
       "2  7225516707       Medium  Finance Lending  New Delhi\n",
       "3  8093537819        Large      Block Chain     Mumbai\n",
       "4  4387541014       Medium      Hyper Local   Banglore"
      ]
     },
     "execution_count": 4,
     "metadata": {},
     "output_type": "execute_result"
    }
   ],
   "source": [
    "# Overview of starting few rows of Industry Client Details Dataset\n",
    "print(\"Industry Client Details Dataset:\")\n",
    "industry_df.head()\n"
   ]
  },
  {
   "cell_type": "code",
   "execution_count": 5,
   "id": "26119726",
   "metadata": {},
   "outputs": [
    {
     "name": "stdout",
     "output_type": "stream",
     "text": [
      "Payment Information Dataset:\n"
     ]
    },
    {
     "data": {
      "text/html": [
       "<div>\n",
       "<style scoped>\n",
       "    .dataframe tbody tr th:only-of-type {\n",
       "        vertical-align: middle;\n",
       "    }\n",
       "\n",
       "    .dataframe tbody tr th {\n",
       "        vertical-align: top;\n",
       "    }\n",
       "\n",
       "    .dataframe thead th {\n",
       "        text-align: right;\n",
       "    }\n",
       "</style>\n",
       "<table border=\"1\" class=\"dataframe\">\n",
       "  <thead>\n",
       "    <tr style=\"text-align: right;\">\n",
       "      <th></th>\n",
       "      <th>client_id</th>\n",
       "      <th>payment_date</th>\n",
       "      <th>amount_paid</th>\n",
       "      <th>payment_method</th>\n",
       "    </tr>\n",
       "  </thead>\n",
       "  <tbody>\n",
       "    <tr>\n",
       "      <th>0</th>\n",
       "      <td>6292156167</td>\n",
       "      <td>9/16/2019</td>\n",
       "      <td>447.0</td>\n",
       "      <td>Bank Transfer</td>\n",
       "    </tr>\n",
       "    <tr>\n",
       "      <th>1</th>\n",
       "      <td>7462725203</td>\n",
       "      <td>5/21/2018</td>\n",
       "      <td>379.7</td>\n",
       "      <td>Bank Transfer</td>\n",
       "    </tr>\n",
       "    <tr>\n",
       "      <th>2</th>\n",
       "      <td>4698004907</td>\n",
       "      <td>9/11/2021</td>\n",
       "      <td>435.1</td>\n",
       "      <td>Check</td>\n",
       "    </tr>\n",
       "    <tr>\n",
       "      <th>3</th>\n",
       "      <td>3510240337</td>\n",
       "      <td>12/7/2020</td>\n",
       "      <td>413.1</td>\n",
       "      <td>Check</td>\n",
       "    </tr>\n",
       "    <tr>\n",
       "      <th>4</th>\n",
       "      <td>7501599785</td>\n",
       "      <td>3/4/2019</td>\n",
       "      <td>61.1</td>\n",
       "      <td>Bank Transfer</td>\n",
       "    </tr>\n",
       "  </tbody>\n",
       "</table>\n",
       "</div>"
      ],
      "text/plain": [
       "    client_id payment_date  amount_paid payment_method\n",
       "0  6292156167    9/16/2019        447.0  Bank Transfer\n",
       "1  7462725203    5/21/2018        379.7  Bank Transfer\n",
       "2  4698004907    9/11/2021        435.1          Check\n",
       "3  3510240337    12/7/2020        413.1          Check\n",
       "4  7501599785     3/4/2019         61.1  Bank Transfer"
      ]
     },
     "execution_count": 5,
     "metadata": {},
     "output_type": "execute_result"
    }
   ],
   "source": [
    "# Overview of starting few rows of Payment Information Dataset\n",
    "print(\"Payment Information Dataset:\")\n",
    "payment_df.head()\n"
   ]
  },
  {
   "cell_type": "code",
   "execution_count": 6,
   "id": "932254bd",
   "metadata": {},
   "outputs": [
    {
     "name": "stdout",
     "output_type": "stream",
     "text": [
      "Subscription Information Dataset:\n"
     ]
    },
    {
     "data": {
      "text/html": [
       "<div>\n",
       "<style scoped>\n",
       "    .dataframe tbody tr th:only-of-type {\n",
       "        vertical-align: middle;\n",
       "    }\n",
       "\n",
       "    .dataframe tbody tr th {\n",
       "        vertical-align: top;\n",
       "    }\n",
       "\n",
       "    .dataframe thead th {\n",
       "        text-align: right;\n",
       "    }\n",
       "</style>\n",
       "<table border=\"1\" class=\"dataframe\">\n",
       "  <thead>\n",
       "    <tr style=\"text-align: right;\">\n",
       "      <th></th>\n",
       "      <th>client_id</th>\n",
       "      <th>subscription_type</th>\n",
       "      <th>start_date</th>\n",
       "      <th>end_date</th>\n",
       "      <th>renewed</th>\n",
       "    </tr>\n",
       "  </thead>\n",
       "  <tbody>\n",
       "    <tr>\n",
       "      <th>0</th>\n",
       "      <td>1131383004</td>\n",
       "      <td>Yearly</td>\n",
       "      <td>2020-11-11</td>\n",
       "      <td>2021-11-11</td>\n",
       "      <td>False</td>\n",
       "    </tr>\n",
       "    <tr>\n",
       "      <th>1</th>\n",
       "      <td>4309371709</td>\n",
       "      <td>Monthly</td>\n",
       "      <td>2021-05-24</td>\n",
       "      <td>2021-06-23</td>\n",
       "      <td>True</td>\n",
       "    </tr>\n",
       "    <tr>\n",
       "      <th>2</th>\n",
       "      <td>3183675157</td>\n",
       "      <td>Yearly</td>\n",
       "      <td>2021-12-25</td>\n",
       "      <td>2022-12-25</td>\n",
       "      <td>True</td>\n",
       "    </tr>\n",
       "    <tr>\n",
       "      <th>3</th>\n",
       "      <td>5371694837</td>\n",
       "      <td>Monthly</td>\n",
       "      <td>2020-03-14</td>\n",
       "      <td>2020-04-13</td>\n",
       "      <td>True</td>\n",
       "    </tr>\n",
       "    <tr>\n",
       "      <th>4</th>\n",
       "      <td>5157113076</td>\n",
       "      <td>Monthly</td>\n",
       "      <td>2019-11-07</td>\n",
       "      <td>2019-12-07</td>\n",
       "      <td>False</td>\n",
       "    </tr>\n",
       "  </tbody>\n",
       "</table>\n",
       "</div>"
      ],
      "text/plain": [
       "    client_id subscription_type  start_date    end_date  renewed\n",
       "0  1131383004            Yearly  2020-11-11  2021-11-11    False\n",
       "1  4309371709           Monthly  2021-05-24  2021-06-23     True\n",
       "2  3183675157            Yearly  2021-12-25  2022-12-25     True\n",
       "3  5371694837           Monthly  2020-03-14  2020-04-13     True\n",
       "4  5157113076           Monthly  2019-11-07  2019-12-07    False"
      ]
     },
     "execution_count": 6,
     "metadata": {},
     "output_type": "execute_result"
    }
   ],
   "source": [
    "# Overview of starting few rows of Subscription Information Dataset\n",
    "print(\"Subscription Information Dataset:\")\n",
    "subscription_df.head()"
   ]
  },
  {
   "cell_type": "markdown",
   "id": "6afc0c3f",
   "metadata": {},
   "source": [
    "There are no Null/Missing values in any of the four datasets which i have checked for accurate results and to avoid any misleading insights. All the null values are Zeroes (df.isnull().sum()=0) for all the datsets. "
   ]
  },
  {
   "cell_type": "markdown",
   "id": "2b42e34b",
   "metadata": {},
   "source": [
    "### Question 1: How many finance lending and blockchain clients does the organization have?"
   ]
  },
  {
   "cell_type": "code",
   "execution_count": 7,
   "id": "e4378415",
   "metadata": {},
   "outputs": [
    {
     "name": "stdout",
     "output_type": "stream",
     "text": [
      "Count of the Clients in Finance lending and Blockchain industries:\n",
      "Block Chain        25\n",
      "Finance Lending    22\n",
      "Name: industry, dtype: int64\n"
     ]
    }
   ],
   "source": [
    "# I am going to use industry Clinets Infromation dataset here as it has industries information\n",
    "\n",
    "# To include Clients only from Finance lending and Blockchain industries\n",
    "industries = industry_df[industry_df['industry'].isin(['Finance Lending','Block Chain'])]\n",
    "\n",
    "# To count the clients in selected industries\n",
    "Clients_count = industries['industry'].value_counts()\n",
    "\n",
    "# Print the clients count in target ndustries\n",
    "print(\"Count of the Clients in Finance lending and Blockchain industries:\")\n",
    "print(Clients_count)\n",
    "\n"
   ]
  },
  {
   "cell_type": "markdown",
   "id": "e91b30c6",
   "metadata": {},
   "source": [
    "#### Distribution for count of clients in Finance lending and Blockchain industries"
   ]
  },
  {
   "cell_type": "code",
   "execution_count": 8,
   "id": "28097580",
   "metadata": {},
   "outputs": [
    {
     "data": {
      "image/png": "[encoded data removed]",
      "text/plain": [
       "<Figure size 720x432 with 1 Axes>"
      ]
     },
     "metadata": {
      "needs_background": "light"
     },
     "output_type": "display_data"
    }
   ],
   "source": [
    "# Setting up the Size of the figure\n",
    "plt.figure(figsize=(10,6))\n",
    "\n",
    "# Countplot to show the distribution of target industries\n",
    "viz = sns.countplot(data=industries,x='industry',palette='Set1')\n",
    " \n",
    "# To show the count on the top of the bars\n",
    "\n",
    "#Iterate through the bars in the countplot and add the counts at the top of the bar at center position\n",
    "for i in viz.patches:\n",
    "    viz.annotate(f'{i.get_height()}', (i.get_x() + i.get_width()/2, i.get_height()), va='bottom')\n",
    "    \n",
    "# Setting up Title and Labels\n",
    "plt.title(\"Count of the Clients in Finance lending and Blockchain industries\")\n",
    "plt.xlabel(\" Name of the Industry\")\n",
    "plt.ylabel(\"Count of the Clients\")\n",
    "plt.show()\n",
    "\n"
   ]
  },
  {
   "cell_type": "markdown",
   "id": "d5feef7b",
   "metadata": {},
   "source": [
    "#### Insight / Answer: Organization have 25 Clients in Block Chain Industry and 22 Clients in Finance lending Industry."
   ]
  },
  {
   "cell_type": "raw",
   "id": "6b4b7e2d",
   "metadata": {},
   "source": []
  },
  {
   "cell_type": "markdown",
   "id": "63b59d99",
   "metadata": {},
   "source": [
    "### Question 2: Which industry in the organization has the highest renewal rate?"
   ]
  },
  {
   "cell_type": "code",
   "execution_count": 9,
   "id": "cda0b4c6",
   "metadata": {},
   "outputs": [
    {
     "name": "stdout",
     "output_type": "stream",
     "text": [
      "industry  with the highest renewal rate is 'Gaming' with the rate 0.7273\n"
     ]
    }
   ],
   "source": [
    "# We need to merge the Subscription Information Dataset with Industry Client Details Dataset with the unique Column 'client_id' \n",
    "#as we want Organizaton Name from the Industry Client Details Dataset \n",
    "merge_df=pd.merge(subscription_df,industry_df,on='client_id')\n",
    "\n",
    "# Overview of the merged dataset\n",
    "merge_df.head()\n",
    "\n",
    "# Group the rows by unique values of \"industry\" Column \n",
    "# Take the mean of reneweals which is boolean column\n",
    "# Python treats False=0 and True=1 as booleans are actually subtype of integers\n",
    "\n",
    "renewal_rate=merge_df.groupby('industry')['renewed'].mean()\n",
    "\n",
    "#Print the industry in organization with the highest renewal rate\n",
    "# idxmax() to return the inustry with max value\n",
    "print(f\"industry  with the highest renewal rate is '{renewal_rate.idxmax()}' with the rate {renewal_rate.max():.4f}\")\n"
   ]
  },
  {
   "cell_type": "markdown",
   "id": "8a755d11",
   "metadata": {},
   "source": [
    "#### Distibution of Reneweal Rates of Different Industries:"
   ]
  },
  {
   "cell_type": "code",
   "execution_count": 10,
   "id": "eca16fcb",
   "metadata": {},
   "outputs": [
    {
     "data": {
      "image/png": "[encoded data removed]",
      "text/plain": [
       "<Figure size 720x432 with 1 Axes>"
      ]
     },
     "metadata": {
      "needs_background": "light"
     },
     "output_type": "display_data"
    }
   ],
   "source": [
    "# Setting up the Size of the figure\n",
    "plt.figure(figsize=(10,6))\n",
    "\n",
    "# barplot to show the distribution of Reneweal Rates of Different Industries\n",
    "viz = sns.barplot(x=renewal_rate.index,y=renewal_rate.values,palette='Set1')\n",
    "\n",
    "#Iterate through the bars in the countplot and add the counts at the top of the bar at center position\n",
    "for i in viz.patches:\n",
    "    viz.annotate(f'{i.get_height():.4f}', (i.get_x()+ i.get_width()/2.9 , i.get_height()), va='bottom')\n",
    "    \n",
    "# Setting up Title and Labels\n",
    "plt.title(\"Distribution of Reneweal Rates of Different Industries\")\n",
    "plt.xlabel(\" Name of the Industry\")\n",
    "plt.ylabel(\"Reneweal Rate\")\n",
    "plt.show()"
   ]
  },
  {
   "cell_type": "markdown",
   "id": "d8053597",
   "metadata": {},
   "source": [
    "#### Insight/Answer: Gaming Industry has the highest Renewal Rate 0.7273 in the Organization"
   ]
  },
  {
   "cell_type": "raw",
   "id": "48fa0b1e",
   "metadata": {},
   "source": []
  },
  {
   "cell_type": "markdown",
   "id": "746696b6",
   "metadata": {},
   "source": [
    "### Question 3: What was the average inflation rate when their subscriptions were renewed?"
   ]
  },
  {
   "cell_type": "code",
   "execution_count": 11,
   "id": "6f6995e1",
   "metadata": {},
   "outputs": [
    {
     "name": "stdout",
     "output_type": "stream",
     "text": [
      "The average inflation rate when their subscriptions were renewed is: 4.311800000000001\n"
     ]
    }
   ],
   "source": [
    "# Ensuring all the dates are in same format\n",
    "financial_df['start_date']=pd.to_datetime(financial_df['start_date'])\n",
    "financial_df['end_date']=pd.to_datetime(financial_df['end_date'])\n",
    "subscription_df['end_date']=pd.to_datetime(subscription_df['end_date'])\n",
    "\n",
    "#Filter to keep the renewed subscriptions only\n",
    "renewed_df = subscription_df[subscription_df['renewed']==True].copy()\n",
    "\n",
    "# Match the end_date of renewed subscription to financial period\n",
    "def find_inflation(date):\n",
    "    row=financial_df[(financial_df['start_date'] <= date) & (financial_df['end_date'] >=date)]\n",
    "    if not row.empty:\n",
    "        return row.iloc[0]['inflation_rate']\n",
    "    return None\n",
    "# Apply to eaach renewed subscription\n",
    "renewed_df['matched_inflation']=renewed_df['end_date'].apply(find_inflation)\n",
    "\n",
    "# find the average inflation\n",
    "avrg_inflation = renewed_df['matched_inflation'].mean()\n",
    "\n",
    "print(\"The average inflation rate when their subscriptions were renewed is:\",avrg_inflation)\n"
   ]
  },
  {
   "cell_type": "markdown",
   "id": "004a6b44",
   "metadata": {},
   "source": [
    "#### Insight/Answer: The average inflation rate is 4.311 when their subscriptions are renewed."
   ]
  },
  {
   "cell_type": "raw",
   "id": "f3e60b27",
   "metadata": {},
   "source": []
  },
  {
   "cell_type": "markdown",
   "id": "527d5d3f",
   "metadata": {},
   "source": [
    "### Question 4: What is the median amount paid each year for all payment methods? "
   ]
  },
  {
   "cell_type": "code",
   "execution_count": 12,
   "id": "a3bd5b75",
   "metadata": {},
   "outputs": [
    {
     "name": "stdout",
     "output_type": "stream",
     "text": [
      "Median amount paid for each year for alltypes of payments together: year\n",
      "2018    235.7\n",
      "2019    360.9\n",
      "2020    284.5\n",
      "2021    306.8\n",
      "2022    288.0\n",
      "Name: amount_paid, dtype: float64\n"
     ]
    }
   ],
   "source": [
    "# I am going to use Payment Information Dataset here as it contains the columns amount_paid and payment_method\n",
    "\n",
    "# Ensuring all the dates are in same format\n",
    "payment_df['payment_date'] = pd.to_datetime(payment_df['payment_date'])\n",
    "\n",
    "# Extract year from the payment date as we need to find median for each year\n",
    "payment_df['year'] = payment_df['payment_date'].dt.year \n",
    "\n",
    "# Median amount paid for each year for all types of payments together\n",
    "amount_median= payment_df.groupby(['year'])['amount_paid'].median()\n",
    "\n",
    "# Show the result\n",
    "print(\"Median amount paid for each year for alltypes of payments together:\",amount_median)\n",
    "\n"
   ]
  },
  {
   "cell_type": "markdown",
   "id": "6b7bf184",
   "metadata": {},
   "source": [
    "#### Median of every payment method in each year"
   ]
  },
  {
   "cell_type": "code",
   "execution_count": 13,
   "id": "ca9ff1be",
   "metadata": {},
   "outputs": [
    {
     "name": "stdout",
     "output_type": "stream",
     "text": [
      "Median amount paid each year for all payment methods:\n"
     ]
    },
    {
     "data": {
      "text/html": [
       "<div>\n",
       "<style scoped>\n",
       "    .dataframe tbody tr th:only-of-type {\n",
       "        vertical-align: middle;\n",
       "    }\n",
       "\n",
       "    .dataframe tbody tr th {\n",
       "        vertical-align: top;\n",
       "    }\n",
       "\n",
       "    .dataframe thead th {\n",
       "        text-align: right;\n",
       "    }\n",
       "</style>\n",
       "<table border=\"1\" class=\"dataframe\">\n",
       "  <thead>\n",
       "    <tr style=\"text-align: right;\">\n",
       "      <th></th>\n",
       "      <th></th>\n",
       "      <th>median_amount_paid</th>\n",
       "    </tr>\n",
       "    <tr>\n",
       "      <th>year</th>\n",
       "      <th>payment_method</th>\n",
       "      <th></th>\n",
       "    </tr>\n",
       "  </thead>\n",
       "  <tbody>\n",
       "    <tr>\n",
       "      <th rowspan=\"3\" valign=\"top\">2018</th>\n",
       "      <th>Bank Transfer</th>\n",
       "      <td>281.65</td>\n",
       "    </tr>\n",
       "    <tr>\n",
       "      <th>Check</th>\n",
       "      <td>216.60</td>\n",
       "    </tr>\n",
       "    <tr>\n",
       "      <th>Credit Card</th>\n",
       "      <td>229.15</td>\n",
       "    </tr>\n",
       "    <tr>\n",
       "      <th rowspan=\"3\" valign=\"top\">2019</th>\n",
       "      <th>Bank Transfer</th>\n",
       "      <td>184.20</td>\n",
       "    </tr>\n",
       "    <tr>\n",
       "      <th>Check</th>\n",
       "      <td>410.20</td>\n",
       "    </tr>\n",
       "    <tr>\n",
       "      <th>Credit Card</th>\n",
       "      <td>401.90</td>\n",
       "    </tr>\n",
       "    <tr>\n",
       "      <th rowspan=\"3\" valign=\"top\">2020</th>\n",
       "      <th>Bank Transfer</th>\n",
       "      <td>225.10</td>\n",
       "    </tr>\n",
       "    <tr>\n",
       "      <th>Check</th>\n",
       "      <td>413.10</td>\n",
       "    </tr>\n",
       "    <tr>\n",
       "      <th>Credit Card</th>\n",
       "      <td>285.25</td>\n",
       "    </tr>\n",
       "    <tr>\n",
       "      <th rowspan=\"3\" valign=\"top\">2021</th>\n",
       "      <th>Bank Transfer</th>\n",
       "      <td>255.30</td>\n",
       "    </tr>\n",
       "    <tr>\n",
       "      <th>Check</th>\n",
       "      <td>435.10</td>\n",
       "    </tr>\n",
       "    <tr>\n",
       "      <th>Credit Card</th>\n",
       "      <td>208.70</td>\n",
       "    </tr>\n",
       "    <tr>\n",
       "      <th rowspan=\"3\" valign=\"top\">2022</th>\n",
       "      <th>Bank Transfer</th>\n",
       "      <td>196.50</td>\n",
       "    </tr>\n",
       "    <tr>\n",
       "      <th>Check</th>\n",
       "      <td>275.50</td>\n",
       "    </tr>\n",
       "    <tr>\n",
       "      <th>Credit Card</th>\n",
       "      <td>326.20</td>\n",
       "    </tr>\n",
       "  </tbody>\n",
       "</table>\n",
       "</div>"
      ],
      "text/plain": [
       "                     median_amount_paid\n",
       "year payment_method                    \n",
       "2018 Bank Transfer               281.65\n",
       "     Check                       216.60\n",
       "     Credit Card                 229.15\n",
       "2019 Bank Transfer               184.20\n",
       "     Check                       410.20\n",
       "     Credit Card                 401.90\n",
       "2020 Bank Transfer               225.10\n",
       "     Check                       413.10\n",
       "     Credit Card                 285.25\n",
       "2021 Bank Transfer               255.30\n",
       "     Check                       435.10\n",
       "     Credit Card                 208.70\n",
       "2022 Bank Transfer               196.50\n",
       "     Check                       275.50\n",
       "     Credit Card                 326.20"
      ]
     },
     "execution_count": 13,
     "metadata": {},
     "output_type": "execute_result"
    }
   ],
   "source": [
    "# Group the rows by unique values in the Year column and Payment methods\n",
    "# Find the median of amount_paid each year\n",
    "amount_median= payment_df.groupby(['year','payment_method'])['amount_paid'].median()\n",
    "\n",
    "# Making the result into Dataframe\n",
    "amount_median=pd.DataFrame(amount_median)\n",
    "\n",
    "# Changing the name of column\n",
    "amount_median.rename(columns={'amount_paid':'median_amount_paid'},inplace=True)\n",
    "\n",
    "# Display the output with all the rows\n",
    "print(\"Median amount paid each year for all payment methods:\")\n",
    "amount_median.head(len(amount_median))"
   ]
  },
  {
   "cell_type": "markdown",
   "id": "3f5d62ad",
   "metadata": {},
   "source": [
    "## Result:"
   ]
  },
  {
   "cell_type": "markdown",
   "id": "faff5949",
   "metadata": {},
   "source": [
    "1. Organization have 25 Clients in Block Chain Industry and 22 Clients in Finance lending Industry.\n",
    "2. Gaming Industry has the highest Renewal Rate 0.7273 in the Organization.\n",
    "3. The average inflation rate is 4.311 when their subscriptions are renewed.\n",
    "4. Median for each year for all payment methods <br>\n",
    "   Bank Transfer:[year 2018 : 281.65, year 2019 : 184.20, year 2020 : 225.10, year 2021 : 255.30, year 2022 : 196.50]<br>\n",
    "     for Check : [year 2018 : 216.60, year 2019 : 410.20, year 2020 : 413.10, year 2021 : 435.10, year 2022 : 275.50]<br>\n",
    "    Credit Card :[year 2018 : 229.15, year 2019 : 401.90, year 2020 : 285.25, year 2021 : 208.70, year 2022 : 326.20] <br>\n",
    "    <br>\n",
    "  Median amount paid for each year all payments together :<br>\n",
    "  [year 2018 : 235.7, year 2019 : 360.9, year 2020 : 284.5, year 2021 :306.8, year 2022 : 288.0]"
   ]
  },
  {
   "cell_type": "code",
   "execution_count": null,
   "id": "7df0ddb4",
   "metadata": {},
   "outputs": [],
   "source": []
  }
 ],
 "metadata": {
  "kernelspec": {
   "display_name": "Python 3 (ipykernel)",
   "language": "python",
   "name": "python3"
  },
  "language_info": {
   "codemirror_mode": {
    "name": "ipython",
    "version": 3
   },
   "file_extension": ".py",
   "mimetype": "text/x-python",
   "name": "python",
   "nbconvert_exporter": "python",
   "pygments_lexer": "ipython3",
   "version": "3.9.12"
  }
 },
 "nbformat": 4,
 "nbformat_minor": 5
}
