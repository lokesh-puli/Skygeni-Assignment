{
 "cells": [
  {
   "cell_type": "markdown",
   "id": "2b9574cb",
   "metadata": {},
   "source": [
    "# Skygeni Assignment for Data Engineering Role"
   ]
  },
  {
   "cell_type": "markdown",
   "id": "a6dc4f7c",
   "metadata": {},
   "source": [
    "## Student Details:\n",
    "<b>1. Name:</b> Puli Lokesh <br>\n",
    "<b>2. University:</b> Lovely Professional University"
   ]
  },
  {
   "cell_type": "markdown",
   "id": "d64181fd",
   "metadata": {},
   "source": [
    "## Importing Libraries"
   ]
  },
  {
   "cell_type": "code",
   "execution_count": 1,
   "id": "29eb9230",
   "metadata": {},
   "outputs": [],
   "source": [
    "# Importing all the necessary Libries for the analysis\n",
    "\n",
    "# Library for data manipulation andd analysis and to deal with Dataframes\n",
    "import pandas as pd\n",
    "\n",
    "# Library for numerical operations including mathematical functions and support for arrays \n",
    "import numpy as np\n",
    "\n",
    "# Libraries For Visualization\n",
    "import seaborn as sns\n",
    "import matplotlib.pyplot as plt"
   ]
  },
  {
   "cell_type": "markdown",
   "id": "8cb87f92",
   "metadata": {},
   "source": [
    "## Importing Datasets"
   ]
  },
  {
   "cell_type": "code",
   "execution_count": 2,
   "id": "4807c54c",
   "metadata": {},
   "outputs": [
    {
     "ename": "FileNotFoundError",
     "evalue": "[Errno 2] No such file or directory: 'finanical_information.csv'",
     "output_type": "error",
     "traceback": [
      "\u001b[1;31m---------------------------------------------------------------------------\u001b[0m",
      "\u001b[1;31mFileNotFoundError\u001b[0m                         Traceback (most recent call last)",
      "Input \u001b[1;32mIn [2]\u001b[0m, in \u001b[0;36m<cell line: 4>\u001b[1;34m()\u001b[0m\n\u001b[0;32m      1\u001b[0m \u001b[38;5;66;03m#Loading all the four datasets\u001b[39;00m\n\u001b[0;32m      2\u001b[0m \n\u001b[0;32m      3\u001b[0m \u001b[38;5;66;03m# Load Finanical Information Dataset\u001b[39;00m\n\u001b[1;32m----> 4\u001b[0m financial_df\u001b[38;5;241m=\u001b[39m\u001b[43mpd\u001b[49m\u001b[38;5;241;43m.\u001b[39;49m\u001b[43mread_csv\u001b[49m\u001b[43m(\u001b[49m\u001b[38;5;124;43m\"\u001b[39;49m\u001b[38;5;124;43mfinanical_information.csv\u001b[39;49m\u001b[38;5;124;43m\"\u001b[39;49m\u001b[43m)\u001b[49m\n\u001b[0;32m      6\u001b[0m \u001b[38;5;66;03m# Load Industry Client Details Dataset\u001b[39;00m\n\u001b[0;32m      7\u001b[0m industry_df\u001b[38;5;241m=\u001b[39mpd\u001b[38;5;241m.\u001b[39mread_csv(\u001b[38;5;124m\"\u001b[39m\u001b[38;5;124mindustry_client_details.csv\u001b[39m\u001b[38;5;124m\"\u001b[39m)\n",
      "File \u001b[1;32m~\\anaconda3\\lib\\site-packages\\pandas\\util\\_decorators.py:311\u001b[0m, in \u001b[0;36mdeprecate_nonkeyword_arguments.<locals>.decorate.<locals>.wrapper\u001b[1;34m(*args, **kwargs)\u001b[0m\n\u001b[0;32m    305\u001b[0m \u001b[38;5;28;01mif\u001b[39;00m \u001b[38;5;28mlen\u001b[39m(args) \u001b[38;5;241m>\u001b[39m num_allow_args:\n\u001b[0;32m    306\u001b[0m     warnings\u001b[38;5;241m.\u001b[39mwarn(\n\u001b[0;32m    307\u001b[0m         msg\u001b[38;5;241m.\u001b[39mformat(arguments\u001b[38;5;241m=\u001b[39marguments),\n\u001b[0;32m    308\u001b[0m         \u001b[38;5;167;01mFutureWarning\u001b[39;00m,\n\u001b[0;32m    309\u001b[0m         stacklevel\u001b[38;5;241m=\u001b[39mstacklevel,\n\u001b[0;32m    310\u001b[0m     )\n\u001b[1;32m--> 311\u001b[0m \u001b[38;5;28;01mreturn\u001b[39;00m func(\u001b[38;5;241m*\u001b[39margs, \u001b[38;5;241m*\u001b[39m\u001b[38;5;241m*\u001b[39mkwargs)\n",
      "File \u001b[1;32m~\\anaconda3\\lib\\site-packages\\pandas\\io\\parsers\\readers.py:680\u001b[0m, in \u001b[0;36mread_csv\u001b[1;34m(filepath_or_buffer, sep, delimiter, header, names, index_col, usecols, squeeze, prefix, mangle_dupe_cols, dtype, engine, converters, true_values, false_values, skipinitialspace, skiprows, skipfooter, nrows, na_values, keep_default_na, na_filter, verbose, skip_blank_lines, parse_dates, infer_datetime_format, keep_date_col, date_parser, dayfirst, cache_dates, iterator, chunksize, compression, thousands, decimal, lineterminator, quotechar, quoting, doublequote, escapechar, comment, encoding, encoding_errors, dialect, error_bad_lines, warn_bad_lines, on_bad_lines, delim_whitespace, low_memory, memory_map, float_precision, storage_options)\u001b[0m\n\u001b[0;32m    665\u001b[0m kwds_defaults \u001b[38;5;241m=\u001b[39m _refine_defaults_read(\n\u001b[0;32m    666\u001b[0m     dialect,\n\u001b[0;32m    667\u001b[0m     delimiter,\n\u001b[1;32m   (...)\u001b[0m\n\u001b[0;32m    676\u001b[0m     defaults\u001b[38;5;241m=\u001b[39m{\u001b[38;5;124m\"\u001b[39m\u001b[38;5;124mdelimiter\u001b[39m\u001b[38;5;124m\"\u001b[39m: \u001b[38;5;124m\"\u001b[39m\u001b[38;5;124m,\u001b[39m\u001b[38;5;124m\"\u001b[39m},\n\u001b[0;32m    677\u001b[0m )\n\u001b[0;32m    678\u001b[0m kwds\u001b[38;5;241m.\u001b[39mupdate(kwds_defaults)\n\u001b[1;32m--> 680\u001b[0m \u001b[38;5;28;01mreturn\u001b[39;00m \u001b[43m_read\u001b[49m\u001b[43m(\u001b[49m\u001b[43mfilepath_or_buffer\u001b[49m\u001b[43m,\u001b[49m\u001b[43m \u001b[49m\u001b[43mkwds\u001b[49m\u001b[43m)\u001b[49m\n",
      "File \u001b[1;32m~\\anaconda3\\lib\\site-packages\\pandas\\io\\parsers\\readers.py:575\u001b[0m, in \u001b[0;36m_read\u001b[1;34m(filepath_or_buffer, kwds)\u001b[0m\n\u001b[0;32m    572\u001b[0m _validate_names(kwds\u001b[38;5;241m.\u001b[39mget(\u001b[38;5;124m\"\u001b[39m\u001b[38;5;124mnames\u001b[39m\u001b[38;5;124m\"\u001b[39m, \u001b[38;5;28;01mNone\u001b[39;00m))\n\u001b[0;32m    574\u001b[0m \u001b[38;5;66;03m# Create the parser.\u001b[39;00m\n\u001b[1;32m--> 575\u001b[0m parser \u001b[38;5;241m=\u001b[39m TextFileReader(filepath_or_buffer, \u001b[38;5;241m*\u001b[39m\u001b[38;5;241m*\u001b[39mkwds)\n\u001b[0;32m    577\u001b[0m \u001b[38;5;28;01mif\u001b[39;00m chunksize \u001b[38;5;129;01mor\u001b[39;00m iterator:\n\u001b[0;32m    578\u001b[0m     \u001b[38;5;28;01mreturn\u001b[39;00m parser\n",
      "File \u001b[1;32m~\\anaconda3\\lib\\site-packages\\pandas\\io\\parsers\\readers.py:933\u001b[0m, in \u001b[0;36mTextFileReader.__init__\u001b[1;34m(self, f, engine, **kwds)\u001b[0m\n\u001b[0;32m    930\u001b[0m     \u001b[38;5;28mself\u001b[39m\u001b[38;5;241m.\u001b[39moptions[\u001b[38;5;124m\"\u001b[39m\u001b[38;5;124mhas_index_names\u001b[39m\u001b[38;5;124m\"\u001b[39m] \u001b[38;5;241m=\u001b[39m kwds[\u001b[38;5;124m\"\u001b[39m\u001b[38;5;124mhas_index_names\u001b[39m\u001b[38;5;124m\"\u001b[39m]\n\u001b[0;32m    932\u001b[0m \u001b[38;5;28mself\u001b[39m\u001b[38;5;241m.\u001b[39mhandles: IOHandles \u001b[38;5;241m|\u001b[39m \u001b[38;5;28;01mNone\u001b[39;00m \u001b[38;5;241m=\u001b[39m \u001b[38;5;28;01mNone\u001b[39;00m\n\u001b[1;32m--> 933\u001b[0m \u001b[38;5;28mself\u001b[39m\u001b[38;5;241m.\u001b[39m_engine \u001b[38;5;241m=\u001b[39m \u001b[38;5;28;43mself\u001b[39;49m\u001b[38;5;241;43m.\u001b[39;49m\u001b[43m_make_engine\u001b[49m\u001b[43m(\u001b[49m\u001b[43mf\u001b[49m\u001b[43m,\u001b[49m\u001b[43m \u001b[49m\u001b[38;5;28;43mself\u001b[39;49m\u001b[38;5;241;43m.\u001b[39;49m\u001b[43mengine\u001b[49m\u001b[43m)\u001b[49m\n",
      "File \u001b[1;32m~\\anaconda3\\lib\\site-packages\\pandas\\io\\parsers\\readers.py:1217\u001b[0m, in \u001b[0;36mTextFileReader._make_engine\u001b[1;34m(self, f, engine)\u001b[0m\n\u001b[0;32m   1213\u001b[0m     mode \u001b[38;5;241m=\u001b[39m \u001b[38;5;124m\"\u001b[39m\u001b[38;5;124mrb\u001b[39m\u001b[38;5;124m\"\u001b[39m\n\u001b[0;32m   1214\u001b[0m \u001b[38;5;66;03m# error: No overload variant of \"get_handle\" matches argument types\u001b[39;00m\n\u001b[0;32m   1215\u001b[0m \u001b[38;5;66;03m# \"Union[str, PathLike[str], ReadCsvBuffer[bytes], ReadCsvBuffer[str]]\"\u001b[39;00m\n\u001b[0;32m   1216\u001b[0m \u001b[38;5;66;03m# , \"str\", \"bool\", \"Any\", \"Any\", \"Any\", \"Any\", \"Any\"\u001b[39;00m\n\u001b[1;32m-> 1217\u001b[0m \u001b[38;5;28mself\u001b[39m\u001b[38;5;241m.\u001b[39mhandles \u001b[38;5;241m=\u001b[39m \u001b[43mget_handle\u001b[49m\u001b[43m(\u001b[49m\u001b[43m  \u001b[49m\u001b[38;5;66;43;03m# type: ignore[call-overload]\u001b[39;49;00m\n\u001b[0;32m   1218\u001b[0m \u001b[43m    \u001b[49m\u001b[43mf\u001b[49m\u001b[43m,\u001b[49m\n\u001b[0;32m   1219\u001b[0m \u001b[43m    \u001b[49m\u001b[43mmode\u001b[49m\u001b[43m,\u001b[49m\n\u001b[0;32m   1220\u001b[0m \u001b[43m    \u001b[49m\u001b[43mencoding\u001b[49m\u001b[38;5;241;43m=\u001b[39;49m\u001b[38;5;28;43mself\u001b[39;49m\u001b[38;5;241;43m.\u001b[39;49m\u001b[43moptions\u001b[49m\u001b[38;5;241;43m.\u001b[39;49m\u001b[43mget\u001b[49m\u001b[43m(\u001b[49m\u001b[38;5;124;43m\"\u001b[39;49m\u001b[38;5;124;43mencoding\u001b[39;49m\u001b[38;5;124;43m\"\u001b[39;49m\u001b[43m,\u001b[49m\u001b[43m \u001b[49m\u001b[38;5;28;43;01mNone\u001b[39;49;00m\u001b[43m)\u001b[49m\u001b[43m,\u001b[49m\n\u001b[0;32m   1221\u001b[0m \u001b[43m    \u001b[49m\u001b[43mcompression\u001b[49m\u001b[38;5;241;43m=\u001b[39;49m\u001b[38;5;28;43mself\u001b[39;49m\u001b[38;5;241;43m.\u001b[39;49m\u001b[43moptions\u001b[49m\u001b[38;5;241;43m.\u001b[39;49m\u001b[43mget\u001b[49m\u001b[43m(\u001b[49m\u001b[38;5;124;43m\"\u001b[39;49m\u001b[38;5;124;43mcompression\u001b[39;49m\u001b[38;5;124;43m\"\u001b[39;49m\u001b[43m,\u001b[49m\u001b[43m \u001b[49m\u001b[38;5;28;43;01mNone\u001b[39;49;00m\u001b[43m)\u001b[49m\u001b[43m,\u001b[49m\n\u001b[0;32m   1222\u001b[0m \u001b[43m    \u001b[49m\u001b[43mmemory_map\u001b[49m\u001b[38;5;241;43m=\u001b[39;49m\u001b[38;5;28;43mself\u001b[39;49m\u001b[38;5;241;43m.\u001b[39;49m\u001b[43moptions\u001b[49m\u001b[38;5;241;43m.\u001b[39;49m\u001b[43mget\u001b[49m\u001b[43m(\u001b[49m\u001b[38;5;124;43m\"\u001b[39;49m\u001b[38;5;124;43mmemory_map\u001b[39;49m\u001b[38;5;124;43m\"\u001b[39;49m\u001b[43m,\u001b[49m\u001b[43m \u001b[49m\u001b[38;5;28;43;01mFalse\u001b[39;49;00m\u001b[43m)\u001b[49m\u001b[43m,\u001b[49m\n\u001b[0;32m   1223\u001b[0m \u001b[43m    \u001b[49m\u001b[43mis_text\u001b[49m\u001b[38;5;241;43m=\u001b[39;49m\u001b[43mis_text\u001b[49m\u001b[43m,\u001b[49m\n\u001b[0;32m   1224\u001b[0m \u001b[43m    \u001b[49m\u001b[43merrors\u001b[49m\u001b[38;5;241;43m=\u001b[39;49m\u001b[38;5;28;43mself\u001b[39;49m\u001b[38;5;241;43m.\u001b[39;49m\u001b[43moptions\u001b[49m\u001b[38;5;241;43m.\u001b[39;49m\u001b[43mget\u001b[49m\u001b[43m(\u001b[49m\u001b[38;5;124;43m\"\u001b[39;49m\u001b[38;5;124;43mencoding_errors\u001b[39;49m\u001b[38;5;124;43m\"\u001b[39;49m\u001b[43m,\u001b[49m\u001b[43m \u001b[49m\u001b[38;5;124;43m\"\u001b[39;49m\u001b[38;5;124;43mstrict\u001b[39;49m\u001b[38;5;124;43m\"\u001b[39;49m\u001b[43m)\u001b[49m\u001b[43m,\u001b[49m\n\u001b[0;32m   1225\u001b[0m \u001b[43m    \u001b[49m\u001b[43mstorage_options\u001b[49m\u001b[38;5;241;43m=\u001b[39;49m\u001b[38;5;28;43mself\u001b[39;49m\u001b[38;5;241;43m.\u001b[39;49m\u001b[43moptions\u001b[49m\u001b[38;5;241;43m.\u001b[39;49m\u001b[43mget\u001b[49m\u001b[43m(\u001b[49m\u001b[38;5;124;43m\"\u001b[39;49m\u001b[38;5;124;43mstorage_options\u001b[39;49m\u001b[38;5;124;43m\"\u001b[39;49m\u001b[43m,\u001b[49m\u001b[43m \u001b[49m\u001b[38;5;28;43;01mNone\u001b[39;49;00m\u001b[43m)\u001b[49m\u001b[43m,\u001b[49m\n\u001b[0;32m   1226\u001b[0m \u001b[43m\u001b[49m\u001b[43m)\u001b[49m\n\u001b[0;32m   1227\u001b[0m \u001b[38;5;28;01massert\u001b[39;00m \u001b[38;5;28mself\u001b[39m\u001b[38;5;241m.\u001b[39mhandles \u001b[38;5;129;01mis\u001b[39;00m \u001b[38;5;129;01mnot\u001b[39;00m \u001b[38;5;28;01mNone\u001b[39;00m\n\u001b[0;32m   1228\u001b[0m f \u001b[38;5;241m=\u001b[39m \u001b[38;5;28mself\u001b[39m\u001b[38;5;241m.\u001b[39mhandles\u001b[38;5;241m.\u001b[39mhandle\n",
      "File \u001b[1;32m~\\anaconda3\\lib\\site-packages\\pandas\\io\\common.py:789\u001b[0m, in \u001b[0;36mget_handle\u001b[1;34m(path_or_buf, mode, encoding, compression, memory_map, is_text, errors, storage_options)\u001b[0m\n\u001b[0;32m    784\u001b[0m \u001b[38;5;28;01melif\u001b[39;00m \u001b[38;5;28misinstance\u001b[39m(handle, \u001b[38;5;28mstr\u001b[39m):\n\u001b[0;32m    785\u001b[0m     \u001b[38;5;66;03m# Check whether the filename is to be opened in binary mode.\u001b[39;00m\n\u001b[0;32m    786\u001b[0m     \u001b[38;5;66;03m# Binary mode does not support 'encoding' and 'newline'.\u001b[39;00m\n\u001b[0;32m    787\u001b[0m     \u001b[38;5;28;01mif\u001b[39;00m ioargs\u001b[38;5;241m.\u001b[39mencoding \u001b[38;5;129;01mand\u001b[39;00m \u001b[38;5;124m\"\u001b[39m\u001b[38;5;124mb\u001b[39m\u001b[38;5;124m\"\u001b[39m \u001b[38;5;129;01mnot\u001b[39;00m \u001b[38;5;129;01min\u001b[39;00m ioargs\u001b[38;5;241m.\u001b[39mmode:\n\u001b[0;32m    788\u001b[0m         \u001b[38;5;66;03m# Encoding\u001b[39;00m\n\u001b[1;32m--> 789\u001b[0m         handle \u001b[38;5;241m=\u001b[39m \u001b[38;5;28;43mopen\u001b[39;49m\u001b[43m(\u001b[49m\n\u001b[0;32m    790\u001b[0m \u001b[43m            \u001b[49m\u001b[43mhandle\u001b[49m\u001b[43m,\u001b[49m\n\u001b[0;32m    791\u001b[0m \u001b[43m            \u001b[49m\u001b[43mioargs\u001b[49m\u001b[38;5;241;43m.\u001b[39;49m\u001b[43mmode\u001b[49m\u001b[43m,\u001b[49m\n\u001b[0;32m    792\u001b[0m \u001b[43m            \u001b[49m\u001b[43mencoding\u001b[49m\u001b[38;5;241;43m=\u001b[39;49m\u001b[43mioargs\u001b[49m\u001b[38;5;241;43m.\u001b[39;49m\u001b[43mencoding\u001b[49m\u001b[43m,\u001b[49m\n\u001b[0;32m    793\u001b[0m \u001b[43m            \u001b[49m\u001b[43merrors\u001b[49m\u001b[38;5;241;43m=\u001b[39;49m\u001b[43merrors\u001b[49m\u001b[43m,\u001b[49m\n\u001b[0;32m    794\u001b[0m \u001b[43m            \u001b[49m\u001b[43mnewline\u001b[49m\u001b[38;5;241;43m=\u001b[39;49m\u001b[38;5;124;43m\"\u001b[39;49m\u001b[38;5;124;43m\"\u001b[39;49m\u001b[43m,\u001b[49m\n\u001b[0;32m    795\u001b[0m \u001b[43m        \u001b[49m\u001b[43m)\u001b[49m\n\u001b[0;32m    796\u001b[0m     \u001b[38;5;28;01melse\u001b[39;00m:\n\u001b[0;32m    797\u001b[0m         \u001b[38;5;66;03m# Binary mode\u001b[39;00m\n\u001b[0;32m    798\u001b[0m         handle \u001b[38;5;241m=\u001b[39m \u001b[38;5;28mopen\u001b[39m(handle, ioargs\u001b[38;5;241m.\u001b[39mmode)\n",
      "\u001b[1;31mFileNotFoundError\u001b[0m: [Errno 2] No such file or directory: 'finanical_information.csv'"
     ]
    }
   ],
   "source": [
    "#Loading all the four datasets\n",
    "\n",
    "# Load Finanical Information Dataset\n",
    "financial_df=pd.read_csv(\"finanical_information.csv\")\n",
    "\n",
    "# Load Industry Client Details Dataset\n",
    "industry_df=pd.read_csv(\"industry_client_details.csv\")\n",
    "\n",
    "# Load Payment Information Dataset \n",
    "payment_df=pd.read_csv(\"payment_information.csv\")\n",
    "\n",
    "# Load Subscription Information Dataset\n",
    "subscription_df=pd.read_csv(\"subscription_information.csv\")"
   ]
  },
  {
   "cell_type": "markdown",
   "id": "cc653809",
   "metadata": {},
   "source": [
    "## Data Inspection and Exploring"
   ]
  },
  {
   "cell_type": "code",
   "execution_count": null,
   "id": "cf1fadc3",
   "metadata": {},
   "outputs": [],
   "source": [
    "# Overview of starting few rows of Finanical Information Dataset\n",
    "print(\"Finanical Information Dataset:\")\n",
    "financial_df.head()\n"
   ]
  },
  {
   "cell_type": "code",
   "execution_count": null,
   "id": "3cde8dc9",
   "metadata": {},
   "outputs": [],
   "source": [
    "# Overview of starting few rows of Industry Client Details Dataset\n",
    "print(\"Industry Client Details Dataset:\")\n",
    "industry_df.head()\n"
   ]
  },
  {
   "cell_type": "code",
   "execution_count": null,
   "id": "26119726",
   "metadata": {},
   "outputs": [],
   "source": [
    "# Overview of starting few rows of Payment Information Dataset\n",
    "print(\"Payment Information Dataset:\")\n",
    "payment_df.head()\n"
   ]
  },
  {
   "cell_type": "code",
   "execution_count": null,
   "id": "932254bd",
   "metadata": {},
   "outputs": [],
   "source": [
    "# Overview of starting few rows of Subscription Information Dataset\n",
    "print(\"Subscription Information Dataset:\")\n",
    "subscription_df.head()"
   ]
  },
  {
   "cell_type": "markdown",
   "id": "6afc0c3f",
   "metadata": {},
   "source": [
    "There are no Null/Missing values in any of the four datasets which i have checked for accurate results and to avoid any misleading insights. All the null values are Zeroes (df.isnull().sum()=0) for all the datsets. "
   ]
  },
  {
   "cell_type": "markdown",
   "id": "2b42e34b",
   "metadata": {},
   "source": [
    "### Question 1: How many finance lending and blockchain clients does the organization have?"
   ]
  },
  {
   "cell_type": "code",
   "execution_count": null,
   "id": "e4378415",
   "metadata": {},
   "outputs": [],
   "source": [
    "# I am going to use industry Clinets Infromation dataset here as it has industries information\n",
    "\n",
    "# To include Clients only from Finance lending and Blockchain industries\n",
    "industries = industry_df[industry_df['industry'].isin(['Finance Lending','Block Chain'])]\n",
    "\n",
    "# To count the clients in selected industries\n",
    "Clients_count = industries['industry'].value_counts()\n",
    "\n",
    "# Print the clients count in target ndustries\n",
    "print(\"Count of the Clients in Finance lending and Blockchain industries:\")\n",
    "print(Clients_count)\n",
    "\n"
   ]
  },
  {
   "cell_type": "markdown",
   "id": "e91b30c6",
   "metadata": {},
   "source": [
    "#### Distribution for count of clients in Finance lending and Blockchain industries"
   ]
  },
  {
   "cell_type": "code",
   "execution_count": null,
   "id": "28097580",
   "metadata": {},
   "outputs": [],
   "source": [
    "# Setting up the Size of the figure\n",
    "plt.figure(figsize=(10,6))\n",
    "\n",
    "# Countplot to show the distribution of target industries\n",
    "viz = sns.countplot(data=industries,x='industry',palette='Set1')\n",
    " \n",
    "# To show the count on the top of the bars\n",
    "\n",
    "#Iterate through the bars in the countplot and add the counts at the top of the bar at center position\n",
    "for i in viz.patches:\n",
    "    viz.annotate(f'{i.get_height()}', (i.get_x() + i.get_width()/2, i.get_height()), va='bottom')\n",
    "    \n",
    "# Setting up Title and Labels\n",
    "plt.title(\"Count of the Clients in Finance lending and Blockchain industries\")\n",
    "plt.xlabel(\" Name of the Industry\")\n",
    "plt.ylabel(\"Count of the Clients\")\n",
    "plt.show()\n",
    "\n"
   ]
  },
  {
   "cell_type": "markdown",
   "id": "d5feef7b",
   "metadata": {},
   "source": [
    "#### Insight / Answer: Organization have 25 Clients in Block Chain Industry and 22 Clients in Finance lending Industry."
   ]
  },
  {
   "cell_type": "raw",
   "id": "6b4b7e2d",
   "metadata": {},
   "source": []
  },
  {
   "cell_type": "markdown",
   "id": "63b59d99",
   "metadata": {},
   "source": [
    "### Question 2: Which industry in the organization has the highest renewal rate?"
   ]
  },
  {
   "cell_type": "code",
   "execution_count": null,
   "id": "cda0b4c6",
   "metadata": {},
   "outputs": [],
   "source": [
    "# We need to merge the Subscription Information Dataset with Industry Client Details Dataset with the unique Column 'client_id' \n",
    "#as we want Organizaton Name from the Industry Client Details Dataset \n",
    "merge_df=pd.merge(subscription_df,industry_df,on='client_id')\n",
    "\n",
    "# Overview of the merged dataset\n",
    "merge_df.head()\n",
    "\n",
    "# Group the rows by unique values of \"industry\" Column \n",
    "# Take the mean of reneweals which is boolean column\n",
    "# Python treats False=0 and True=1 as booleans are actually subtype of integers\n",
    "\n",
    "renewal_rate=merge_df.groupby('industry')['renewed'].mean()\n",
    "\n",
    "#Print the industry in organization with the highest renewal rate\n",
    "# idxmax() to return the inustry with max value\n",
    "print(f\"industry  with the highest renewal rate is '{renewal_rate.idxmax()}' with the rate {renewal_rate.max():.4f}\")\n"
   ]
  },
  {
   "cell_type": "markdown",
   "id": "8a755d11",
   "metadata": {},
   "source": [
    "#### Distibution of Reneweal Rates of Different Industries:"
   ]
  },
  {
   "cell_type": "code",
   "execution_count": null,
   "id": "eca16fcb",
   "metadata": {},
   "outputs": [],
   "source": [
    "# Setting up the Size of the figure\n",
    "plt.figure(figsize=(10,6))\n",
    "\n",
    "# barplot to show the distribution of Reneweal Rates of Different Industries\n",
    "viz = sns.barplot(x=renewal_rate.index,y=renewal_rate.values,palette='Set1')\n",
    "\n",
    "#Iterate through the bars in the countplot and add the counts at the top of the bar at center position\n",
    "for i in viz.patches:\n",
    "    viz.annotate(f'{i.get_height():.4f}', (i.get_x()+ i.get_width()/2.9 , i.get_height()), va='bottom')\n",
    "    \n",
    "# Setting up Title and Labels\n",
    "plt.title(\"Distribution of Reneweal Rates of Different Industries\")\n",
    "plt.xlabel(\" Name of the Industry\")\n",
    "plt.ylabel(\"Reneweal Rate\")\n",
    "plt.show()"
   ]
  },
  {
   "cell_type": "markdown",
   "id": "d8053597",
   "metadata": {},
   "source": [
    "#### Insight/Answer: Gaming Industry has the highest Renewal Rate 0.7273 in the Organization"
   ]
  },
  {
   "cell_type": "raw",
   "id": "48fa0b1e",
   "metadata": {},
   "source": []
  },
  {
   "cell_type": "markdown",
   "id": "746696b6",
   "metadata": {},
   "source": [
    "### Question 3: What was the average inflation rate when their subscriptions were renewed?"
   ]
  },
  {
   "cell_type": "code",
   "execution_count": null,
   "id": "6f6995e1",
   "metadata": {},
   "outputs": [],
   "source": [
    "# Ensuring all the dates are in same format\n",
    "financial_df['start_date']=pd.to_datetime(financial_df['start_date'])\n",
    "financial_df['end_date']=pd.to_datetime(financial_df['end_date'])\n",
    "subscription_df['end_date']=pd.to_datetime(subscription_df['end_date'])\n",
    "\n",
    "#Filter to keep the renewed subscriptions only\n",
    "renewed_df = subscription_df[subscription_df['renewed']==True].copy()\n",
    "\n",
    "# Match the end_date of renewed subscription to financial period\n",
    "def find_inflation(date):\n",
    "    row=financial_df[(financial_df['start_date'] <= date) & (financial_df['end_date'] >=date)]\n",
    "    if not row.empty:\n",
    "        return row.iloc[0]['inflation_rate']\n",
    "    return None\n",
    "# Apply to eaach renewed subscription\n",
    "renewed_df['matched_inflation']=renewed_df['end_date'].apply(find_inflation)\n",
    "\n",
    "# find the average inflation\n",
    "avrg_inflation = renewed_df['matched_inflation'].mean()\n",
    "\n",
    "print(\"The average inflation rate when their subscriptions were renewed is:\",avrg_inflation)\n"
   ]
  },
  {
   "cell_type": "markdown",
   "id": "004a6b44",
   "metadata": {},
   "source": [
    "#### Insight/Answer: The average inflation rate is 4.311 when their subscriptions are renewed."
   ]
  },
  {
   "cell_type": "raw",
   "id": "f3e60b27",
   "metadata": {},
   "source": []
  },
  {
   "cell_type": "markdown",
   "id": "527d5d3f",
   "metadata": {},
   "source": [
    "### Question 4: What is the median amount paid each year for all payment methods? "
   ]
  },
  {
   "cell_type": "code",
   "execution_count": null,
   "id": "a3bd5b75",
   "metadata": {},
   "outputs": [],
   "source": [
    "# I am going to use Payment Information Dataset here as it contains the columns amount_paid and payment_method\n",
    "\n",
    "# Ensuring all the dates are in same format\n",
    "payment_df['payment_date'] = pd.to_datetime(payment_df['payment_date'])\n",
    "\n",
    "# Extract year from the payment date as we need to find median for each year\n",
    "payment_df['year'] = payment_df['payment_date'].dt.year \n",
    "\n",
    "# Median amount paid for each year for all types of payments together\n",
    "amount_median= payment_df.groupby(['year'])['amount_paid'].median()\n",
    "\n",
    "# Show the result\n",
    "print(\"Median amount paid for each year for alltypes of payments together:\",amount_median)\n",
    "\n"
   ]
  },
  {
   "cell_type": "markdown",
   "id": "6b7bf184",
   "metadata": {},
   "source": [
    "#### Median of every payment method in each year"
   ]
  },
  {
   "cell_type": "code",
   "execution_count": null,
   "id": "ca9ff1be",
   "metadata": {},
   "outputs": [],
   "source": [
    "# Group the rows by unique values in the Year column and Payment methods\n",
    "# Find the median of amount_paid each year\n",
    "amount_median= payment_df.groupby(['year','payment_method'])['amount_paid'].median()\n",
    "\n",
    "# Making the result into Dataframe\n",
    "amount_median=pd.DataFrame(amount_median)\n",
    "\n",
    "# Changing the name of column\n",
    "amount_median.rename(columns={'amount_paid':'median_amount_paid'},inplace=True)\n",
    "\n",
    "# Display the output with all the rows\n",
    "print(\"Median amount paid each year for all payment methods:\")\n",
    "amount_median.head(len(amount_median))"
   ]
  },
  {
   "cell_type": "markdown",
   "id": "3f5d62ad",
   "metadata": {},
   "source": [
    "## Result:"
   ]
  },
  {
   "cell_type": "markdown",
   "id": "faff5949",
   "metadata": {},
   "source": [
    "1. Organization have 25 Clients in Block Chain Industry and 22 Clients in Finance lending Industry.\n",
    "2. Gaming Industry has the highest Renewal Rate 0.7273 in the Organization.\n",
    "3. The average inflation rate is 4.311 when their subscriptions are renewed.\n",
    "4. Median for each year for all payment methods <br>\n",
    "   Bank Transfer:[year 2018 : 281.65, year 2019 : 184.20, year 2020 : 225.10, year 2021 : 255.30, year 2022 : 196.50]<br>\n",
    "     for Check : [year 2018 : 216.60, year 2019 : 410.20, year 2020 : 413.10, year 2021 : 435.10, year 2022 : 275.50]<br>\n",
    "    Credit Card :[year 2018 : 229.15, year 2019 : 401.90, year 2020 : 285.25, year 2021 : 208.70, year 2022 : 326.20] <br>\n",
    "    <br>\n",
    "  Median amount paid for each year all payments together :<br>\n",
    "  [year 2018 : 235.7, year 2019 : 360.9, year 2020 : 284.5, year 2021 :306.8, year 2022 : 288.0]"
   ]
  },
  {
   "cell_type": "code",
   "execution_count": null,
   "id": "7df0ddb4",
   "metadata": {},
   "outputs": [],
   "source": []
  }
 ],
 "metadata": {
  "kernelspec": {
   "display_name": "Python 3 (ipykernel)",
   "language": "python",
   "name": "python3"
  },
  "language_info": {
   "codemirror_mode": {
    "name": "ipython",
    "version": 3
   },
   "file_extension": ".py",
   "mimetype": "text/x-python",
   "name": "python",
   "nbconvert_exporter": "python",
   "pygments_lexer": "ipython3",
   "version": "3.9.12"
  }
 },
 "nbformat": 4,
 "nbformat_minor": 5
}
